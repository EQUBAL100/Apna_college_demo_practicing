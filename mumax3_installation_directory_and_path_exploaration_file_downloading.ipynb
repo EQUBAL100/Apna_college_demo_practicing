{
  "nbformat": 4,
  "nbformat_minor": 0,
  "metadata": {
    "colab": {
      "provenance": [],
      "collapsed_sections": [
        "YKnOM0Rd_WpW"
      ],
      "include_colab_link": true
    },
    "kernelspec": {
      "name": "python3",
      "display_name": "Python 3"
    },
    "accelerator": "GPU"
  },
  "cells": [
    {
      "cell_type": "markdown",
      "metadata": {
        "id": "view-in-github",
        "colab_type": "text"
      },
      "source": [
        "<a href=\"https://colab.research.google.com/github/EQUBAL100/Apna_college_demo_practicing/blob/main/mumax3_installation_directory_and_path_exploaration_file_downloading.ipynb\" target=\"_parent\"><img src=\"https://colab.research.google.com/assets/colab-badge.svg\" alt=\"Open In Colab\"/></a>"
      ]
    },
    {
      "cell_type": "markdown",
      "metadata": {
        "id": "YKnOM0Rd_WpW"
      },
      "source": [
        "# **Mumax3 in google colaboratory**"
      ]
    },
    {
      "cell_type": "markdown",
      "source": [
        ">[Mumax3 in google colaboratory](#scrollTo=YKnOM0Rd_WpW)\n",
        "\n",
        ">[About Google colaboratory](#scrollTo=7z-jkukmWz2a)\n",
        "\n",
        ">[Installing mumax3](#scrollTo=sx20qbQJGQNI)\n",
        "\n",
        ">[Running a mumax3 script](#scrollTo=sQhUZQFMBKYY)\n",
        "\n"
      ],
      "metadata": {
        "colab_type": "toc",
        "id": "iozI15Cd-T6g"
      }
    },
    {
      "cell_type": "markdown",
      "metadata": {
        "id": "7z-jkukmWz2a"
      },
      "source": [
        "# About Google colaboratory"
      ]
    },
    {
      "cell_type": "markdown",
      "metadata": {
        "id": "y2SER9qhXpjG"
      },
      "source": [
        "Google colaboratory is a research tool mainly used by researchers in the field of machine learning. The main purpose of this tool is to run python code in jupyter notebooks. These notebooks run on a virtual linux machine private to your gmail account. This means that you will need a gmail account to execute programs in a google colaboratory session. If you have a gmail account you should be able to copy this jupyter notebook to your google drive and execute the code cells.\n",
        "\n",
        "To run mumax3 simulations, you do not need to write any python code. So you might wonder how we can use this jupyter notebook environment to run mumax3 simulations. The trick here is that you can execute shell commands by typing an exclamation mark followed by the command, as shown in the code cell below. If you run this code cell, the shell will print out the operating system of the virtual machine. Having the ability to run shell commands suffices to install and run mumax3 simulations, as demonstrated in the sections below."
      ]
    },
    {
      "cell_type": "code",
      "source": [
        "from google.colab import drive\n",
        "drive.mount('/content/gdrive')\n",
        "!pwd\n",
        "!ls\n",
        "\n"
      ],
      "metadata": {
        "colab": {
          "base_uri": "https://localhost:8080/"
        },
        "id": "JQmrJrhCmTHI",
        "outputId": "971ae97e-68d1-44ac-9e7f-1c05fe00dd86"
      },
      "execution_count": 62,
      "outputs": [
        {
          "output_type": "stream",
          "name": "stdout",
          "text": [
            "Drive already mounted at /content/gdrive; to attempt to forcibly remount, call drive.mount(\"/content/gdrive\", force_remount=True).\n",
            "/content/gdrive\n",
            "MyDrive\n"
          ]
        }
      ]
    },
    {
      "cell_type": "markdown",
      "source": [
        "# Working Directory\n",
        "In this section, we explored the working directory of the Mumax3! simulation and way to access the content"
      ],
      "metadata": {
        "id": "KK4CRLQmxW9q"
      }
    },
    {
      "cell_type": "code",
      "source": [
        "import os\n",
        "\n",
        "# -------------------------------\n",
        "# STEP 1: Go to /content/gdrive\n",
        "# -------------------------------\n",
        "os.chdir('/content/gdrive')\n",
        "print(\"📍 Current folder:\", os.getcwd())\n",
        "print(\"\\n📂 Files/Folders inside this folder:\")\n",
        "!ls\n",
        "print(\"\\n\" + \"-\"*60 + \"\\n\")\n",
        "\n",
        "# -------------------------------\n",
        "# STEP 2: Go to MyDrive and explore its contents\n",
        "# -------------------------------\n",
        "os.chdir('/content/gdrive/MyDrive')\n",
        "print(\"📍 Now inside:\", os.getcwd())\n",
        "print(\"\\n📂 Files/Folders inside this folder:\")\n",
        "#!ls\n",
        "print(\"\\n\" + \"-\"*60 + \"\\n\")\n",
        "\n",
        "# -------------------------------\n",
        "# STEP 3: Go back to /content/gdrive\n",
        "# -------------------------------\n",
        "os.chdir('/content/gdrive')\n",
        "print(\"📍 Back to main gdrive folder:\", os.getcwd())\n",
        "print(\"\\n📂 Files/Folders here:\")\n",
        "!ls\n",
        "print(\"\\n\" + \"-\"*60 + \"\\n\")\n"
      ],
      "metadata": {
        "colab": {
          "base_uri": "https://localhost:8080/"
        },
        "id": "1y5SrbmNuCOR",
        "outputId": "271c0dfd-7235-43eb-abfd-7de9ccb3ed0d"
      },
      "execution_count": 63,
      "outputs": [
        {
          "output_type": "stream",
          "name": "stdout",
          "text": [
            "📍 Current folder: /content/gdrive\n",
            "\n",
            "📂 Files/Folders inside this folder:\n",
            "MyDrive\n",
            "\n",
            "------------------------------------------------------------\n",
            "\n",
            "📍 Now inside: /content/gdrive/MyDrive\n",
            "\n",
            "📂 Files/Folders inside this folder:\n",
            "\n",
            "------------------------------------------------------------\n",
            "\n",
            "📍 Back to main gdrive folder: /content/gdrive\n",
            "\n",
            "📂 Files/Folders here:\n",
            "MyDrive\n",
            "\n",
            "------------------------------------------------------------\n",
            "\n"
          ]
        }
      ]
    },
    {
      "cell_type": "markdown",
      "source": [
        "##Create Folder and Set as Working Directory"
      ],
      "metadata": {
        "id": "-IMachIszm8p"
      }
    },
    {
      "cell_type": "code",
      "source": [
        "import os\n",
        "\n",
        "# -------------------------------\n",
        "# STEP 1: Go to /content/gdrive/MyDrive\n",
        "# -------------------------------\n",
        "os.chdir('/content/gdrive/MyDrive')\n",
        "print(\"📍 Current folder:\", os.getcwd())\n",
        "\n",
        "# -------------------------------\n",
        "# STEP 2: Create a new folder named 'Mumax_simulation' here\n",
        "# -------------------------------\n",
        "folder_name = \"Mumax_simulation\"\n",
        "folder_path = f\"/content/gdrive/MyDrive/{folder_name}\"\n",
        "\n",
        "if not os.path.exists(folder_path):\n",
        "    os.makedirs(folder_path)\n",
        "    print(f\"✅ Folder '{folder_name}' created successfully inside /content/gdrive/MyDrive/\")\n",
        "else:\n",
        "    print(f\"ℹ️ Folder '{folder_name}' already exists inside /content/gdrive/MyDrive/\")\n",
        "\n",
        "# -------------------------------\n",
        "# STEP 3: Change working directory to that folder\n",
        "# -------------------------------\n",
        "os.chdir(folder_path)\n",
        "print(\"\\n📍 Now working inside:\", os.getcwd())\n",
        "\n",
        "# -------------------------------\n",
        "# STEP 4: List contents of this folder\n",
        "# -------------------------------\n",
        "print(\"\\n📂 Files/Folders here (should be empty if newly created):\")\n",
        "!ls\n",
        "print(\"\\n\" + \"-\"*60 + \"\\n\")"
      ],
      "metadata": {
        "colab": {
          "base_uri": "https://localhost:8080/"
        },
        "id": "2IzCzgB9zwfw",
        "outputId": "b088756c-8423-4f10-f73f-9c7b87f89fca"
      },
      "execution_count": 64,
      "outputs": [
        {
          "output_type": "stream",
          "name": "stdout",
          "text": [
            "📍 Current folder: /content/gdrive/MyDrive\n",
            "ℹ️ Folder 'Mumax_simulation' already exists inside /content/gdrive/MyDrive/\n",
            "\n",
            "📍 Now working inside: /content/gdrive/MyDrive/Mumax_simulation\n",
            "\n",
            "📂 Files/Folders here (should be empty if newly created):\n",
            "mumax3.10  standardproblem4.out\n",
            "\n",
            "------------------------------------------------------------\n",
            "\n"
          ]
        }
      ]
    },
    {
      "cell_type": "code",
      "metadata": {
        "id": "W-P7fobTQgRT",
        "colab": {
          "base_uri": "https://localhost:8080/"
        },
        "outputId": "c4408d2f-7c37-43f2-fc26-7d90384759e7"
      },
      "source": [
        "! echo \"This machine runs\" $(uname)"
      ],
      "execution_count": 65,
      "outputs": [
        {
          "output_type": "stream",
          "name": "stdout",
          "text": [
            "This machine runs Linux\n"
          ]
        }
      ]
    },
    {
      "cell_type": "markdown",
      "metadata": {
        "id": "sx20qbQJGQNI"
      },
      "source": [
        "# Installing mumax3"
      ]
    },
    {
      "cell_type": "markdown",
      "metadata": {
        "id": "mxByDMk_XUvM"
      },
      "source": [
        "To install mumax3.10 on this virtual machine, you can run the cell below. This might take a few minutes. When the installation is done, you can collapse this section to get a clean workspace."
      ]
    },
    {
      "cell_type": "code",
      "metadata": {
        "colab": {
          "base_uri": "https://localhost:8080/"
        },
        "id": "SFrhq_XM83Ul",
        "outputId": "a4da2b4c-730e-4a33-a966-aab175b894c4"
      },
      "source": [
        "# Download the mumax3 binary\n",
        "!wget https://mumax.ugent.be/mumax3-binaries/mumax3.10_linux_cuda10.1.tar.gz\n",
        "!tar -xvf mumax3.10_linux_cuda10.1.tar.gz\n",
        "!rm mumax3.10_linux_cuda10.1.tar.gz\n",
        "!rm -rf mumax3.10 && mv mumax3.10_linux_cuda10.1 mumax3.10\n",
        "\n",
        "#update the PATH environment variable\n",
        "import os\n",
        "os.environ['PATH'] += \":/content/mumax3.10\"\n",
        "\n"
      ],
      "execution_count": 66,
      "outputs": [
        {
          "output_type": "stream",
          "name": "stdout",
          "text": [
            "--2025-10-19 19:30:30--  https://mumax.ugent.be/mumax3-binaries/mumax3.10_linux_cuda10.1.tar.gz\n",
            "Resolving mumax.ugent.be (mumax.ugent.be)... 157.193.40.77\n",
            "Connecting to mumax.ugent.be (mumax.ugent.be)|157.193.40.77|:443... connected.\n",
            "HTTP request sent, awaiting response... 200 OK\n",
            "Length: 150707207 (144M) [application/x-gzip]\n",
            "Saving to: ‘mumax3.10_linux_cuda10.1.tar.gz’\n",
            "\n",
            "mumax3.10_linux_cud 100%[===================>] 143.73M  19.3MB/s    in 8.4s    \n",
            "\n",
            "2025-10-19 19:30:39 (17.2 MB/s) - ‘mumax3.10_linux_cuda10.1.tar.gz’ saved [150707207/150707207]\n",
            "\n",
            "mumax3.10_linux_cuda10.1/\n",
            "mumax3.10_linux_cuda10.1/mumax3-server\n",
            "mumax3.10_linux_cuda10.1/lib/\n",
            "mumax3.10_linux_cuda10.1/lib/libcurand.so.10\n",
            "mumax3.10_linux_cuda10.1/lib/libcufft.so.10\n",
            "mumax3.10_linux_cuda10.1/mumax3\n",
            "mumax3.10_linux_cuda10.1/LICENSE\n",
            "mumax3.10_linux_cuda10.1/mumax3-convert\n"
          ]
        }
      ]
    },
    {
      "cell_type": "markdown",
      "source": [
        "## Downloading the example script"
      ],
      "metadata": {
        "id": "QVjVZJyw5Onw"
      }
    },
    {
      "cell_type": "code",
      "source": [
        "# Download an examplary script\n",
        "!wget https://raw.githubusercontent.com/JeroenMulkers/mumax3-tutorial/master/standardproblem4.mx3 -O standardproblem4.mx3\n",
        "\n",
        "print(\"\\n📍 Now working inside:\", os.getcwd())\n"
      ],
      "metadata": {
        "colab": {
          "base_uri": "https://localhost:8080/"
        },
        "id": "WS2DgySJ5Jcx",
        "outputId": "f23e7b28-fa9c-4234-ca61-d1f3144c206f"
      },
      "execution_count": 67,
      "outputs": [
        {
          "output_type": "stream",
          "name": "stdout",
          "text": [
            "--2025-10-19 19:30:43--  https://raw.githubusercontent.com/JeroenMulkers/mumax3-tutorial/master/standardproblem4.mx3\n",
            "Resolving raw.githubusercontent.com (raw.githubusercontent.com)... 185.199.108.133, 185.199.109.133, 185.199.110.133, ...\n",
            "Connecting to raw.githubusercontent.com (raw.githubusercontent.com)|185.199.108.133|:443... connected.\n",
            "HTTP request sent, awaiting response... 200 OK\n",
            "Length: 258 [text/plain]\n",
            "Saving to: ‘standardproblem4.mx3’\n",
            "\n",
            "\rstandardproblem4.mx   0%[                    ]       0  --.-KB/s               \rstandardproblem4.mx 100%[===================>]     258  --.-KB/s    in 0s      \n",
            "\n",
            "2025-10-19 19:30:43 (10.3 MB/s) - ‘standardproblem4.mx3’ saved [258/258]\n",
            "\n",
            "\n",
            "📍 Now working inside: /content/gdrive/MyDrive/Mumax_simulation\n"
          ]
        }
      ]
    },
    {
      "cell_type": "markdown",
      "metadata": {
        "id": "sQhUZQFMBKYY"
      },
      "source": [
        "# Running a mumax3 script"
      ]
    },
    {
      "cell_type": "markdown",
      "metadata": {
        "id": "z4DdTSKVXzmP"
      },
      "source": [
        "You can open the filebrowser for this virtual machine on the left side of this page. Here you should see a mumax3 script named standardproblem4.mx3. You should be able to open this file with a double click. To execute the script run the code cell below."
      ]
    },
    {
      "cell_type": "code",
      "metadata": {
        "id": "9g4lmjd7BXGV",
        "colab": {
          "base_uri": "https://localhost:8080/"
        },
        "outputId": "5dd111d9-dc9c-477a-a580-f12128127896"
      },
      "source": [
        "!mumax3 standardproblem4.mx3"
      ],
      "execution_count": 68,
      "outputs": [
        {
          "output_type": "stream",
          "name": "stdout",
          "text": [
            "//mumax 3.10 [linux_amd64 go1.14(gc) CUDA-10.1]\n",
            "//GPU info: Tesla T4(15095MB), CUDA Driver 12.4, cc=7.5, using cc=75 PTX\n",
            "//(c) Arne Vansteenkiste, Dynamat LAB, Ghent University, Belgium\n",
            "//This is free software without any warranty. See license.txt\n",
            "//********************************************************************//\n",
            "//  If you use mumax in any work or publication,                      //\n",
            "//  we kindly ask you to cite the references in references.bib        //\n",
            "//********************************************************************//\n",
            "//output directory: standardproblem4.out/\n",
            "//starting GUI at http://127.0.0.1:35367\n",
            "SetGridsize(128, 32, 1)\n",
            "SetCellsize(500e-9/128, 125e-9/32, 3e-9)\n",
            "Msat = 800e3\n",
            "Aex = 13e-12\n",
            "alpha = 0.02\n",
            "m = uniform(1, .1, 0)\n",
            "relax()\n",
            "//Using cached kernel: /tmp/mumax3kernel_[128 32 1]_[0 0 0]_[3.90625e-09 3.90625e-09 3e-09]_6_\n",
            "save(m)\n",
            "autosave(m, 200e-12)\n",
            "tableautosave(10e-12)\n",
            "B_ext = vector(-24.6E-3, 4.3E-3, 0)\n",
            "run(1e-9)\n",
            "//********************************************************************//\n",
            "//Please cite the following references, relevant for your simulation. //\n",
            "//See bibtex file in output folder for justification.                 //\n",
            "//********************************************************************//\n",
            "//   * Vansteenkiste et al., AIP Adv. 4, 107133 (2014).\n"
          ]
        }
      ]
    },
    {
      "cell_type": "markdown",
      "metadata": {
        "id": "_l3NeuoFaYuk"
      },
      "source": [
        "If you ran the cell above, then there should be a directory named standardproblem4.out (you might need to click on the refresh button in the filebrowser). This directory contains the output files of the simulation. mumax3-convert can now be used to convert the ovf files to images, as demonstrated in the cell below."
      ]
    },
    {
      "cell_type": "code",
      "metadata": {
        "id": "pmuXIuVRbHaY",
        "colab": {
          "base_uri": "https://localhost:8080/"
        },
        "outputId": "cd416ba4-fe0e-460f-bf42-80253a7d6ef3"
      },
      "source": [
        "!mumax3-convert -png standardproblem4.out/*.ovf"
      ],
      "execution_count": 69,
      "outputs": [
        {
          "output_type": "stream",
          "name": "stdout",
          "text": [
            "standardproblem4.out/m000000.ovf\n",
            "standardproblem4.out/m000001.ovf\n",
            "standardproblem4.out/m000002.ovf\n",
            "standardproblem4.out/m000003.ovf\n",
            "standardproblem4.out/m000004.ovf\n",
            "standardproblem4.out/m000005.ovf\n",
            "standardproblem4.out/m000006.ovf\n",
            "[ ok ] standardproblem4.out/m000000.ovf\t-> standardproblem4.out/m000000.png\n",
            "[ ok ] standardproblem4.out/m000002.ovf\t-> standardproblem4.out/m000002.png\n",
            "[ ok ] standardproblem4.out/m000001.ovf\t-> standardproblem4.out/m000001.png\n",
            "[ ok ] standardproblem4.out/m000004.ovf\t-> standardproblem4.out/m000004.png\n",
            "[ ok ] standardproblem4.out/m000005.ovf\t-> standardproblem4.out/m000005.png\n",
            "[ ok ] standardproblem4.out/m000003.ovf\t-> standardproblem4.out/m000003.png\n",
            "[ ok ] standardproblem4.out/m000006.ovf\t-> standardproblem4.out/m000006.png\n",
            "7 files converted,  0 skipped,  0 failed\n"
          ]
        }
      ]
    },
    {
      "cell_type": "markdown",
      "metadata": {
        "id": "BtIafNN4bs5e"
      },
      "source": [
        "Now it's up to you. Right click on the filebrowser to add a new file. Open the file and write your first mumax3 script. Run this script as demonstrated above."
      ]
    },
    {
      "cell_type": "code",
      "source": [
        "print(\"\\n📍 Now working inside:\", os.getcwd())"
      ],
      "metadata": {
        "id": "5XgfuED8ltb3",
        "outputId": "4f7fa9cf-1fce-4a6a-c944-fef65f4a894a",
        "colab": {
          "base_uri": "https://localhost:8080/"
        }
      },
      "execution_count": 70,
      "outputs": [
        {
          "output_type": "stream",
          "name": "stdout",
          "text": [
            "\n",
            "📍 Now working inside: /content/gdrive/MyDrive/Mumax_simulation\n"
          ]
        }
      ]
    }
  ]
}